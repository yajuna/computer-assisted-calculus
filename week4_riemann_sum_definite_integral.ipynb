{
  "nbformat": 4,
  "nbformat_minor": 0,
  "metadata": {
    "colab": {
      "provenance": [],
      "authorship_tag": "ABX9TyP65xouoWWSqBjHGMSSIS8Z",
      "include_colab_link": true
    },
    "kernelspec": {
      "name": "python3",
      "display_name": "Python 3"
    },
    "language_info": {
      "name": "python"
    }
  },
  "cells": [
    {
      "cell_type": "markdown",
      "metadata": {
        "id": "view-in-github",
        "colab_type": "text"
      },
      "source": [
        "<a href=\"https://colab.research.google.com/github/yajuna/computer-assisted-calculus/blob/master/week4_riemann_sum_definite_integral.ipynb\" target=\"_parent\"><img src=\"https://colab.research.google.com/assets/colab-badge.svg\" alt=\"Open In Colab\"/></a>"
      ]
    },
    {
      "cell_type": "markdown",
      "source": [
        "# We look at definite integral by looking at the Riemann sum"
      ],
      "metadata": {
        "id": "hsKwoqtNRQAY"
      }
    },
    {
      "cell_type": "markdown",
      "source": [
        "## In class lab portion- please submit the in class lab portion before the end of class.\n",
        "\n",
        "cells after \"Python lab\" portion should be completed after class and submitted when done."
      ],
      "metadata": {
        "id": "v1yvYzFa6qJs"
      }
    },
    {
      "cell_type": "code",
      "execution_count": null,
      "metadata": {
        "id": "j7qej_xoRHix"
      },
      "outputs": [],
      "source": [
        "import numpy as np\n",
        "import matplotlib.pyplot as plt\n",
        "\n",
        "import datetime\n",
        "now = datetime.datetime.now()\n",
        "\n",
        "# print versions of softwares and time when run\n",
        "import sys\n",
        "print(\"Python 3 version is\", sys.version)\n",
        "print(\"Numpy version is\", np.__version__)\n",
        "import matplotlib\n",
        "print(\"Matplotlib version is\", matplotlib.__version__)\n",
        "print(\"Code run at\", now)"
      ]
    },
    {
      "cell_type": "markdown",
      "source": [
        "### A cat was given treats each day of a week\n",
        "\n",
        "Each day, a cat is given some treats. The data is recorded below. After the entire week, the owner of the cat realized there can not be more than 30 treats given to the cat each week. Did the cat have too many treats this week?"
      ],
      "metadata": {
        "id": "yFOqE9zvcdvG"
      }
    },
    {
      "cell_type": "code",
      "source": [
        "day = [1, 2, 3, 4, 5, 6, 7]\n",
        "treats = [2, 5, 4, 7, 5, 6, 7]"
      ],
      "metadata": {
        "id": "9YKu3e8OdZpe"
      },
      "execution_count": null,
      "outputs": []
    },
    {
      "cell_type": "code",
      "source": [
        "# visualize\n",
        "plt.xlabel('days of the week')\n",
        "plt.ylabel('treat number each day')\n",
        "plt.plot(day, treats,'r*-', label='Treat number')\n",
        "\n",
        "plt.legend()\n",
        "plt.show()"
      ],
      "metadata": {
        "id": "SaweC34Ig538"
      },
      "execution_count": null,
      "outputs": []
    },
    {
      "cell_type": "markdown",
      "source": [
        "We see a general trend of how many treats the cat gets. To compute the total amount of treats, we add all the treat numbers. This process of called _accumulation_."
      ],
      "metadata": {
        "id": "qL-sWiLkiut2"
      }
    },
    {
      "cell_type": "code",
      "source": [
        "## add all numbers in a list\n",
        "total_treats = sum(treats)\n",
        "\n",
        "print(total_treats)"
      ],
      "metadata": {
        "id": "5mA2quArjDI5"
      },
      "execution_count": null,
      "outputs": []
    },
    {
      "cell_type": "markdown",
      "source": [
        "We can also see how many treats are given on average each day, by finding the total number of treats, then dividing by the total number of days of the week."
      ],
      "metadata": {
        "id": "cAGo-KwolH0H"
      }
    },
    {
      "cell_type": "code",
      "source": [
        "treat_average = total_treats / len(day)\n",
        "print(treat_average)"
      ],
      "metadata": {
        "id": "4tjvivQylSiZ"
      },
      "execution_count": null,
      "outputs": []
    },
    {
      "cell_type": "markdown",
      "source": [
        "### Another less obvious example is the distance problem. (ref: Calculus textbook)\n",
        "\n",
        "Find the distance traveled by an object during a time period, if we know the velocity of the object at all times.\n",
        "\n",
        "If the velocity remains constant, then the distance is computed by\n",
        "\n",
        "distance = velocity $\\times$ time\n",
        "\n",
        "But if the velocity changes, it is not so easy to find the distance traveled.\n",
        "\n",
        "In the following example, we measure the velocity each 5 seconds."
      ],
      "metadata": {
        "id": "3Vtn3rUotE-0"
      }
    },
    {
      "cell_type": "code",
      "source": [
        "time = [0, 5, 10, 15, 20, 25, 30]\n",
        "velocity = [25, 31, 35, 43, 47, 46, 41]"
      ],
      "metadata": {
        "id": "K3W-i7oNuhOd"
      },
      "execution_count": null,
      "outputs": []
    },
    {
      "cell_type": "markdown",
      "source": [
        "During the first five seconds the velocity doesn’t change very much, so we can estimate\n",
        "the distance traveled during that time by assuming that the velocity is constant. If we\n",
        "take the velocity during that time interval to be the initial velocity (25 ft/s), then we\n",
        "obtain the approximate distance traveled during the first five seconds:\n",
        "\n",
        "$25\\ ft/s \\times 5\\ s = 125\\ ft$"
      ],
      "metadata": {
        "id": "GZBFy4NXuu4f"
      }
    },
    {
      "cell_type": "markdown",
      "source": [
        "Exercise: Compute the approximate distance traveled during the second five seconds, and the distance traveled between 20 and 25 seconds."
      ],
      "metadata": {
        "id": "-EC5P3gqvANk"
      }
    },
    {
      "cell_type": "code",
      "source": [
        "## compute here\n",
        "\n"
      ],
      "metadata": {
        "id": "1QUYCryMvAjn"
      },
      "execution_count": null,
      "outputs": []
    },
    {
      "cell_type": "markdown",
      "source": [
        "### Compute the approximate distance in the half minute time interval,\n",
        "by adding up all the approximate distances in each 5 second intervals."
      ],
      "metadata": {
        "id": "wqNIWic5v9XW"
      }
    },
    {
      "cell_type": "code",
      "source": [
        "## compute the total distance"
      ],
      "metadata": {
        "id": "3H-d-ZvAwiQU"
      },
      "execution_count": null,
      "outputs": []
    },
    {
      "cell_type": "markdown",
      "source": [
        "Run code below to see the approximate velocity in each 5 second interval.\n",
        "\n",
        "Red uses the end measurement to approximate the velocity in each interval; blue uses the starting measurement to approximate the velocity in each interval."
      ],
      "metadata": {
        "id": "ufQHizLUyRrm"
      }
    },
    {
      "cell_type": "code",
      "source": [
        "for i in range(6):\n",
        "    plt.fill_between([time[i], time[i] + 5], [velocity[i], velocity[i]], alpha=0.3, color='red')\n",
        "\n",
        "\n",
        "for i in range(6):\n",
        "    plt.fill_between([time[i], time[i] + 5], [velocity[i+1], velocity[i+1]], alpha=0.3, color='blue')\n",
        "\n",
        "plt.xlabel('time')\n",
        "plt.ylabel('velocity')\n",
        "plt.title(r'Total distance Approximation with 7 Rectangles')\n",
        "plt.legend()\n",
        "plt.grid(True)\n",
        "plt.show()"
      ],
      "metadata": {
        "id": "3ktZhecCyR_b"
      },
      "execution_count": null,
      "outputs": []
    },
    {
      "cell_type": "markdown",
      "source": [
        "In the following, we approximate the area under $f(x) = \\sin(x)+2$ by using the left end point to approximate the height of each rectangle. We compute the area for $-2\\leq x\\leq 4$.\n",
        "\n",
        "Run the code below and observe over estimate and under estimate of each small rectangle areas."
      ],
      "metadata": {
        "id": "OeaHoPWyxGpa"
      }
    },
    {
      "cell_type": "code",
      "source": [
        "def f(x):\n",
        "    return np.sin(x) + 2\n",
        "\n",
        "x_values = np.linspace(-2, 4, 500)\n",
        "y_values = f(x_values)\n",
        "\n",
        "num_rects = 50\n",
        "x_rects = np.linspace(-2, 4, num_rects)\n",
        "dx = (x_rects[-1] - x_rects[0]) / num_rects\n",
        "y_rects = f(x_rects)\n",
        "\n",
        "plt.figure(figsize=(10, 8))\n",
        "plt.plot(x_values, y_values, label=r'$f(x) = \\sin(x) + 2$', color='b')\n",
        "\n",
        "for i in range(num_rects):\n",
        "    plt.fill_between([x_rects[i], x_rects[i] + dx], [y_rects[i], y_rects[i]], alpha=0.3, color='green')\n",
        "\n",
        "plt.xlabel(r'$x$')\n",
        "plt.ylabel(r'$f(x)$')\n",
        "plt.title(r'Riemann Sum Approximation with '+str(num_rects)+ ' Rectangles')\n",
        "plt.legend()\n",
        "plt.grid(True)\n",
        "plt.show()"
      ],
      "metadata": {
        "id": "visM8azCxG_F"
      },
      "execution_count": null,
      "outputs": []
    },
    {
      "cell_type": "markdown",
      "source": [
        "### Below is an example of computing the area under the function curve $f(x)=\\frac{1}{1+x^2}$.\n",
        "\n",
        "The left hand side is at 0, right hand size is at 5; we divide the area to 10 equal pieces.\n",
        "\n",
        "The code below is from [Mathematical Python](https://patrickwalls.github.io/mathematicalpython/integration/riemann-sums/)"
      ],
      "metadata": {
        "id": "S1bfalp-qF5y"
      }
    },
    {
      "cell_type": "code",
      "source": [
        "f = lambda x : 1/(1+x**2)\n",
        "a = 0; b = 5; N = 10\n",
        "n = 10 # Use n*N+1 points to plot the function smoothly\n",
        "\n",
        "x = np.linspace(a,b,N+1)\n",
        "y = f(x)\n",
        "\n",
        "X = np.linspace(a,b,n*N+1)\n",
        "Y = f(X)\n",
        "\n",
        "plt.figure(figsize=(15,5))\n",
        "\n",
        "plt.subplot(1,3,1)\n",
        "plt.plot(X,Y,'b')\n",
        "x_left = x[:-1] # Left endpoints\n",
        "y_left = y[:-1]\n",
        "plt.plot(x_left,y_left,'b.',markersize=10)\n",
        "plt.bar(x_left,y_left,width=(b-a)/N,alpha=0.2,align='edge',edgecolor='b')\n",
        "plt.title('Left Riemann Sum, N = {}'.format(N))\n",
        "\n",
        "plt.subplot(1,3,2)\n",
        "plt.plot(X,Y,'b')\n",
        "x_mid = (x[:-1] + x[1:])/2 # Midpoints\n",
        "y_mid = f(x_mid)\n",
        "plt.plot(x_mid,y_mid,'b.',markersize=10)\n",
        "plt.bar(x_mid,y_mid,width=(b-a)/N,alpha=0.2,edgecolor='b')\n",
        "plt.title('Midpoint Riemann Sum, N = {}'.format(N))\n",
        "\n",
        "plt.subplot(1,3,3)\n",
        "plt.plot(X,Y,'b')\n",
        "x_right = x[1:] # Left endpoints\n",
        "y_right = y[1:]\n",
        "plt.plot(x_right,y_right,'b.',markersize=10)\n",
        "plt.bar(x_right,y_right,width=-(b-a)/N,alpha=0.2,align='edge',edgecolor='b')\n",
        "plt.title('Right Riemann Sum, N = {}'.format(N))\n",
        "\n",
        "plt.show()"
      ],
      "metadata": {
        "id": "6wnzqVFRqGTJ"
      },
      "execution_count": null,
      "outputs": []
    },
    {
      "cell_type": "markdown",
      "source": [
        "### The approximate values are computed below.\n",
        "\n",
        "The actual value of the area under the curve is $\\arctan 5$. Run code below, which values do you expect to be bigger or smaller than the actual value?"
      ],
      "metadata": {
        "id": "JRsYhY8cqxDR"
      }
    },
    {
      "cell_type": "code",
      "source": [
        "print(np.arctan(5))"
      ],
      "metadata": {
        "id": "qnHcmOf4rA7S"
      },
      "execution_count": null,
      "outputs": []
    },
    {
      "cell_type": "code",
      "source": [
        "dx = (b-a)/N\n",
        "x_left = np.linspace(a,b-dx,N)\n",
        "x_midpoint = np.linspace(dx/2,b - dx/2,N)\n",
        "x_right = np.linspace(dx,b,N)\n",
        "\n",
        "print(\"Partition with\",N,\"subintervals.\")\n",
        "left_riemann_sum = np.sum(f(x_left) * dx)\n",
        "print(\"Left Riemann Sum:\",left_riemann_sum)\n",
        "\n",
        "midpoint_riemann_sum = np.sum(f(x_midpoint) * dx)\n",
        "print(\"Midpoint Riemann Sum:\",midpoint_riemann_sum)\n",
        "\n",
        "right_riemann_sum = np.sum(f(x_right) * dx)\n",
        "print(\"Right Riemann Sum:\",right_riemann_sum)"
      ],
      "metadata": {
        "id": "-4DFcdcSq0o-"
      },
      "execution_count": null,
      "outputs": []
    },
    {
      "cell_type": "markdown",
      "source": [
        "## Lab portion\n",
        "\n",
        "Please finish the following exercises and submit under Lab 4."
      ],
      "metadata": {
        "id": "ODFvLlmD198y"
      }
    },
    {
      "cell_type": "markdown",
      "source": [
        "### Exercise 1:\n",
        "The speed of a runner increased steadily during the first three\n",
        "seconds of a race. Her speed at half-second intervals is given\n",
        "in the table. Find estimates for the distance\n",
        "that she traveled during these three seconds, one using beginning measurement, one using end measurement."
      ],
      "metadata": {
        "id": "iJclKom-2JmA"
      }
    },
    {
      "cell_type": "code",
      "source": [
        "runner_time = [0, 0.5, 1., 1.5, 2.0, 2.5, 3.0]\n",
        "runner_speed = [0, 6.2, 10.8, 14.9, 18.1, 19.4, 20.2]"
      ],
      "metadata": {
        "id": "jCgK9HH32Qr-"
      },
      "execution_count": null,
      "outputs": []
    },
    {
      "cell_type": "markdown",
      "source": [
        "Compute the average speed of the runner."
      ],
      "metadata": {
        "id": "NY7K8dLl2vm5"
      }
    },
    {
      "cell_type": "code",
      "source": [
        "## compute the average speed of the runner"
      ],
      "metadata": {
        "id": "CK41PITe2lHz"
      },
      "execution_count": null,
      "outputs": []
    },
    {
      "cell_type": "markdown",
      "source": [
        "### Exercise 2:\n",
        "\n",
        "Oil leaked from a tank at a rate of $r(t)$ liters per hour. The\n",
        "rate decreased as time passed and values of the rate at two-hour time intervals are shown in the table. Find two estimates for the total amount of oil that leaked out similar to the above examples. Visualize using rectangles."
      ],
      "metadata": {
        "id": "vF4ykAFv2_j0"
      }
    },
    {
      "cell_type": "code",
      "source": [
        "oil_time = [0, 2, 4, 6, 8, 10]\n",
        "oil_leak = [8.7, 7.6, 6.8, 6.2, 5.7, 5.3]"
      ],
      "metadata": {
        "id": "QE7WwTFG3LKV"
      },
      "execution_count": null,
      "outputs": []
    },
    {
      "cell_type": "code",
      "source": [],
      "metadata": {
        "id": "71_3Kd973fSw"
      },
      "execution_count": null,
      "outputs": []
    }
  ]
}
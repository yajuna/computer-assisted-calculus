{
  "nbformat": 4,
  "nbformat_minor": 0,
  "metadata": {
    "colab": {
      "provenance": [],
      "authorship_tag": "ABX9TyNhglMYRDeTukIrufxtMpgl",
      "include_colab_link": true
    },
    "kernelspec": {
      "name": "python3",
      "display_name": "Python 3"
    },
    "language_info": {
      "name": "python"
    }
  },
  "cells": [
    {
      "cell_type": "markdown",
      "metadata": {
        "id": "view-in-github",
        "colab_type": "text"
      },
      "source": [
        "<a href=\"https://colab.research.google.com/github/yajuna/computer-assisted-calculus/blob/master/week1_intro_to_python_and_functions.ipynb\" target=\"_parent\"><img src=\"https://colab.research.google.com/assets/colab-badge.svg\" alt=\"Open In Colab\"/></a>"
      ]
    },
    {
      "cell_type": "markdown",
      "source": [
        "# This notebook introduces you to some Python commands we will use this quarter. We will also plot some functions and get a sense of their properties using visualization."
      ],
      "metadata": {
        "id": "154W6e4BCub6"
      }
    },
    {
      "cell_type": "markdown",
      "source": [
        "## We import all packages used for these notebooks. We use `numpy` for numerical math, and `matplotlib` for visualization"
      ],
      "metadata": {
        "id": "8BNYBfbzC8P9"
      }
    },
    {
      "cell_type": "code",
      "execution_count": null,
      "metadata": {
        "id": "ua0gNX0mCiuO"
      },
      "outputs": [],
      "source": [
        "import numpy as np\n",
        "import matplotlib.pyplot as plt\n",
        "\n",
        "import datetime\n",
        "now = datetime.datetime.now()\n",
        "\n",
        "# print versions of softwares and time when run\n",
        "import sys\n",
        "print(\"Python 3 version is\", sys.version)\n",
        "print(\"Numpy version is\", np.__version__)\n",
        "import matplotlib\n",
        "print(\"Matplotlib version is\", matplotlib.__version__)\n",
        "print(\"Code run at\", now)"
      ]
    },
    {
      "cell_type": "markdown",
      "source": [
        "### Functions arise whenever one quantity $y$ depends on another $x$.\n",
        "\n",
        "If given a $x$, there is only one possible $y$ that depends on the $x$, then this relation is a function. An example is two columns of data, one column is year ($x$), the other is specific value of a quantity of that year ($y$). [Here](https://usadebtnow.org/spending) is an example of federal spending for the past ten years, and you can find more datasets [here](https://fiscaldata.treasury.gov/datasets/).\n",
        "\n",
        "Below we will plot the spending for the past 10 years."
      ],
      "metadata": {
        "id": "Q9uDU5MRLAfZ"
      }
    },
    {
      "cell_type": "code",
      "source": [
        "year = int_list = list(range(2015, 2025))\n",
        "print(\"years to plot\", year)"
      ],
      "metadata": {
        "id": "6AS_-cPwNu_6"
      },
      "execution_count": null,
      "outputs": []
    },
    {
      "cell_type": "markdown",
      "source": [
        "Notice Python includes the left edge (2015) but not the right edge (2025). Now we manually input the spending for the 10 years, we use Trillon as a unit."
      ],
      "metadata": {
        "id": "gwHiGmJ-OKgT"
      }
    },
    {
      "cell_type": "code",
      "source": [
        "spending = [0.9812, 0.9491, 0.9945, 1.1, 1.2, 1.4, 1.4, 1.4, 1.6, 1.8]\n",
        "print(\"How many spending to plot\", len(spending))"
      ],
      "metadata": {
        "id": "wHJxw9CeOaX5"
      },
      "execution_count": null,
      "outputs": []
    },
    {
      "cell_type": "markdown",
      "source": [
        "Now we plot the spending as a function of year. We will use code similar to the examples [here](https://matplotlib.org/stable/tutorials/pyplot.html). You can always search for what you need, a common place for Python is stack exchange."
      ],
      "metadata": {
        "id": "KObhov9pKvk8"
      }
    },
    {
      "cell_type": "code",
      "source": [
        "# red dashes, blue squares and green triangles\n",
        "# x axis is year, y axis is spending.\n",
        "plt.xlabel('year')\n",
        "plt.ylabel('spending (trillion)')\n",
        "plt.plot(year, spending,'g^', label='spending')\n",
        "plt.legend()\n",
        "plt.show()"
      ],
      "metadata": {
        "id": "B-RMO7v1ZA8q"
      },
      "execution_count": null,
      "outputs": []
    },
    {
      "cell_type": "markdown",
      "source": [
        "Exercise: Find some other data sets and plot them using methods similar to above. A fun place to find data is [here](https://www.tylervigen.com/spurious-correlations)"
      ],
      "metadata": {
        "id": "ugSyjbt2cW1m"
      }
    },
    {
      "cell_type": "code",
      "source": [
        "# Plot your own function here"
      ],
      "metadata": {
        "id": "gVVh_hv4diGY"
      },
      "execution_count": null,
      "outputs": []
    },
    {
      "cell_type": "markdown",
      "source": [
        "### Functions in calculus courses are more common seen as a mapping written like $y=f(x)$. We show a few common functions here."
      ],
      "metadata": {
        "id": "e-7MSdUmdle1"
      }
    },
    {
      "cell_type": "code",
      "source": [
        "# domain\n",
        "x = np.linspace(-1,5,500)"
      ],
      "metadata": {
        "id": "RqSvbaVdeDwR"
      },
      "execution_count": null,
      "outputs": []
    },
    {
      "cell_type": "code",
      "source": [
        "# polynomials\n",
        "y3 = x ** 3 + 2 * x ** 2 - 5\n",
        "\n",
        "# trig\n",
        "ysine = np.sin(np.pi * x)\n",
        "\n",
        "# exponential\n",
        "yexp = np.exp(x ** 2)\n",
        "\n",
        "# log-- error message will show; change to np.log(x + 2)\n",
        "ylog = np.log(x+2)"
      ],
      "metadata": {
        "id": "AxNkqff9eAW1"
      },
      "execution_count": null,
      "outputs": []
    },
    {
      "cell_type": "code",
      "source": [
        "# show all four figures\n",
        "# plot with various axes scales\n",
        "plt.figure()\n",
        "\n",
        "# linear\n",
        "plt.subplot(221)\n",
        "plt.plot(x, y3)\n",
        "plt.ylabel('polynomial')\n",
        "# plt.grid(True)\n",
        "\n",
        "# sine\n",
        "plt.subplot(222)\n",
        "plt.plot(x, ysine)\n",
        "plt.title('sine function')\n",
        "plt.grid(True)\n",
        "\n",
        "# exponential\n",
        "plt.subplot(223)\n",
        "plt.ylim(0,100)\n",
        "plt.xlim(-1,1.5)\n",
        "plt.plot(x, yexp, label='exponential function')\n",
        "# plt.grid(True)\n",
        "\n",
        "# logit\n",
        "plt.subplot(224)\n",
        "plt.plot(x, ylog)\n",
        "plt.title('log function')\n",
        "plt.grid(True)\n",
        "\n",
        "plt.show()"
      ],
      "metadata": {
        "id": "_0QO-60Ke_GC"
      },
      "execution_count": null,
      "outputs": []
    },
    {
      "cell_type": "markdown",
      "source": [
        "Exercise: Plot some other functions using methods similar to above, or adjust the parameters of the above functions"
      ],
      "metadata": {
        "id": "Rowoet0TgTpT"
      }
    },
    {
      "cell_type": "code",
      "source": [
        "# Add your code here"
      ],
      "metadata": {
        "id": "jjpm16wmgd9P"
      },
      "execution_count": null,
      "outputs": []
    }
  ]
}
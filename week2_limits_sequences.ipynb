{
  "nbformat": 4,
  "nbformat_minor": 0,
  "metadata": {
    "colab": {
      "provenance": [],
      "authorship_tag": "ABX9TyNlEwvtiSK+TDFi320hqBrT",
      "include_colab_link": true
    },
    "kernelspec": {
      "name": "python3",
      "display_name": "Python 3"
    },
    "language_info": {
      "name": "python"
    }
  },
  "cells": [
    {
      "cell_type": "markdown",
      "metadata": {
        "id": "view-in-github",
        "colab_type": "text"
      },
      "source": [
        "<a href=\"https://colab.research.google.com/github/yajuna/computer-assisted-calculus/blob/master/week2_limits_sequences.ipynb\" target=\"_parent\"><img src=\"https://colab.research.google.com/assets/colab-badge.svg\" alt=\"Open In Colab\"/></a>"
      ]
    },
    {
      "cell_type": "markdown",
      "source": [
        "# This notebook is for both your in class exercises, and your Python lab2. By Thursday, make sure to submit the in class work portion; if we do not finish the Python Lab2 portion, please finish it at home and submit the whole notebook."
      ],
      "metadata": {
        "id": "WU2JlS-Mlua_"
      }
    },
    {
      "cell_type": "markdown",
      "source": [
        "## Below is the in class portion of the notebook"
      ],
      "metadata": {
        "id": "VuHfL6Pa1Nmj"
      }
    },
    {
      "cell_type": "code",
      "execution_count": null,
      "metadata": {
        "id": "Ef4VsGJujiKC"
      },
      "outputs": [],
      "source": [
        "import numpy as np\n",
        "import matplotlib.pyplot as plt\n",
        "\n",
        "import datetime\n",
        "now = datetime.datetime.now()\n",
        "\n",
        "# print versions of softwares and time when run\n",
        "import sys\n",
        "print(\"Python 3 version is\", sys.version)\n",
        "print(\"Numpy version is\", np.__version__)\n",
        "import matplotlib\n",
        "print(\"Matplotlib version is\", matplotlib.__version__)\n",
        "print(\"Code run at\", now)"
      ]
    },
    {
      "cell_type": "markdown",
      "source": [
        "### This week we discuss limits. A natural place to start is sequences.\n",
        "\n",
        "We have looked at the sequence of natural numbers: $a_n = n$. Then $a_0 = 0$, and $a_{150}=150$. We take $n$ to be bigger and bigger, and think what the value of $a_n$ would be. Here we consider the sequence $a_n=3n$. Think what $a_{17}$ is. To make the description easier, we introduce definition in Python."
      ],
      "metadata": {
        "id": "H4y2f2aijpKp"
      }
    },
    {
      "cell_type": "code",
      "source": [
        "def a(n):\n",
        "  return 3 * n"
      ],
      "metadata": {
        "id": "42WZ5SXRuHO9"
      },
      "execution_count": null,
      "outputs": []
    },
    {
      "cell_type": "code",
      "source": [
        "## How do you find a(35)?\n"
      ],
      "metadata": {
        "id": "WaPkDFvkmL6D"
      },
      "execution_count": null,
      "outputs": []
    },
    {
      "cell_type": "markdown",
      "source": [
        "Exercise: define your own function. Let's say $a_n = n +2$."
      ],
      "metadata": {
        "id": "pQ1YZcHN2CgJ"
      }
    },
    {
      "cell_type": "code",
      "source": [
        "## define a_n = n+2"
      ],
      "metadata": {
        "id": "9nrA3yiF2IUm"
      },
      "execution_count": null,
      "outputs": []
    },
    {
      "cell_type": "markdown",
      "source": [
        "We use a `for loop` to get a list of numbers to plot. You can use `append` to add items to an empty list."
      ],
      "metadata": {
        "id": "XEzNVyG-vA6p"
      }
    },
    {
      "cell_type": "code",
      "source": [
        "# define the natural numbers for plotting\n",
        "\n",
        "numbers = [i for i in range(1,150)]"
      ],
      "metadata": {
        "id": "qzLX0V4mnjea"
      },
      "execution_count": null,
      "outputs": []
    },
    {
      "cell_type": "code",
      "source": [
        "sequence = []\n",
        "for n in numbers:\n",
        "  sequence.append(a(n))"
      ],
      "metadata": {
        "id": "nDayhDgyuL5B"
      },
      "execution_count": null,
      "outputs": []
    },
    {
      "cell_type": "code",
      "source": [
        "### print the first 20 numbers in sequence"
      ],
      "metadata": {
        "id": "2ig61ovt19Ta"
      },
      "execution_count": null,
      "outputs": []
    },
    {
      "cell_type": "markdown",
      "source": [
        "### Exercise: Append numbers 150 to 170 to the above list using similar commands."
      ],
      "metadata": {
        "id": "lSDpyd9om8px"
      }
    },
    {
      "cell_type": "code",
      "source": [
        "## your code here"
      ],
      "metadata": {
        "id": "qoi7gIp1m7u0"
      },
      "execution_count": null,
      "outputs": []
    },
    {
      "cell_type": "code",
      "source": [
        "# visualize\n",
        "plt.xlabel('$n$')\n",
        "plt.ylabel('$a_n$')\n",
        "# plt.ylim(numbers[0],100)\n",
        "# plt.xlim(numbers[0],numbers[-1])\n",
        "plt.plot(numbers, sequence,'r*', label='$a_n$')\n",
        "plt.legend()\n",
        "plt.show()"
      ],
      "metadata": {
        "id": "NPIkiNFdvAZA"
      },
      "execution_count": null,
      "outputs": []
    },
    {
      "cell_type": "markdown",
      "source": [
        "## We test a few more limits defined as a function of $n$."
      ],
      "metadata": {
        "id": "c643iMzI5eUE"
      }
    },
    {
      "cell_type": "markdown",
      "source": [
        "We define a list of number from 1 to 999."
      ],
      "metadata": {
        "id": "QEJKZQa13lwt"
      }
    },
    {
      "cell_type": "code",
      "source": [
        "large_numbers = list(range(1,1000))\n",
        "print(\"the list of large numbers is\", large_numbers)"
      ],
      "metadata": {
        "id": "E-6ljSK-6Aag"
      },
      "execution_count": null,
      "outputs": []
    },
    {
      "cell_type": "markdown",
      "source": [
        "### We define two more sequences:\n",
        "\n",
        "$a_1(n)=\\frac{1}{n}$ and $a_2(n)=\\frac{n}{n+1}$.\n",
        "\n",
        "In class, we guessed that $\\frac{1}{n}$ eventurally goes to zero, and using that, we concluded $\\frac{n}{n+1}$ will go to 1 when $n$ goes to infinity."
      ],
      "metadata": {
        "id": "-ZThcvdBrsPE"
      }
    },
    {
      "cell_type": "code",
      "source": [
        "def a1(n):\n",
        "  return 1./n\n",
        "\n",
        "def a2(n):\n",
        "  return n/(n + 1.)"
      ],
      "metadata": {
        "id": "mHWHszzQ5n26"
      },
      "execution_count": null,
      "outputs": []
    },
    {
      "cell_type": "markdown",
      "source": [
        "### We can define sequences using the for loop as before."
      ],
      "metadata": {
        "id": "6_MIbOmwo3JG"
      }
    },
    {
      "cell_type": "code",
      "source": [
        "sequence1 = [a1(i) for i in large_numbers]\n",
        "sequence2 = [a2(i) for i in large_numbers]"
      ],
      "metadata": {
        "id": "p-ZZKAmy6Q2s"
      },
      "execution_count": null,
      "outputs": []
    },
    {
      "cell_type": "code",
      "source": [
        "# visualize\n",
        "plt.xlabel('natural number $a_n$')\n",
        "plt.ylabel('natural number n')\n",
        "plt.plot(large_numbers, sequence1,'g', label='$a_n$')\n",
        "plt.legend()\n",
        "plt.show()"
      ],
      "metadata": {
        "id": "q1RnWv8z6gyv"
      },
      "execution_count": null,
      "outputs": []
    },
    {
      "cell_type": "code",
      "source": [
        "# visualize\n",
        "plt.xlabel('n')\n",
        "plt.ylabel('$a_n$')\n",
        "plt.plot(large_numbers, sequence2,'b', label='$a_n$')\n",
        "plt.legend()\n",
        "plt.show()"
      ],
      "metadata": {
        "id": "7nwaASZ06jVA"
      },
      "execution_count": null,
      "outputs": []
    },
    {
      "cell_type": "markdown",
      "source": [
        "### We test with sequences that bounce up and down.\n"
      ],
      "metadata": {
        "id": "48m5AbWMpziT"
      }
    },
    {
      "cell_type": "code",
      "source": [
        "def bounce(n):\n",
        "  return (-1)**n * 1/n"
      ],
      "metadata": {
        "id": "KhcBV54lp5WE"
      },
      "execution_count": null,
      "outputs": []
    },
    {
      "cell_type": "code",
      "source": [
        "sequence3 = [bounce(i) for i in numbers]"
      ],
      "metadata": {
        "id": "nIvfENBZqEPB"
      },
      "execution_count": null,
      "outputs": []
    },
    {
      "cell_type": "code",
      "source": [
        "# visualize\n",
        "plt.xlabel('n')\n",
        "plt.ylabel('$a_n$')\n",
        "plt.plot(numbers, sequence3,'b', label='$a_n$')\n",
        "plt.legend()\n",
        "plt.show()"
      ],
      "metadata": {
        "id": "FkjGQQEhqKN1"
      },
      "execution_count": null,
      "outputs": []
    },
    {
      "cell_type": "markdown",
      "source": [
        "### Test the limit at certain points for the Topologist's sine curves"
      ],
      "metadata": {
        "id": "lYYw4Kuk6Pwa"
      }
    },
    {
      "cell_type": "code",
      "source": [
        "def topologist_sine_curve(x):\n",
        "  return np.sin(np.pi/x)"
      ],
      "metadata": {
        "id": "RV56TxcfNeRA"
      },
      "execution_count": null,
      "outputs": []
    },
    {
      "cell_type": "markdown",
      "source": [
        "We take $x$ to be small numbers approaching to zero, let $x=\\frac{1}{n}$"
      ],
      "metadata": {
        "id": "Yr2NPEeJORTC"
      }
    },
    {
      "cell_type": "code",
      "source": [
        "sequence_topologist = [topologist_sine_curve(1./n) for n in numbers]"
      ],
      "metadata": {
        "id": "wJE_SjtwNvVm"
      },
      "execution_count": null,
      "outputs": []
    },
    {
      "cell_type": "code",
      "source": [
        "# visualize\n",
        "plt.xlabel('n')\n",
        "plt.ylabel('$a_n$')\n",
        "# plt.xlim(0,5)\n",
        "plt.ylim(-1,1)\n",
        "plt.plot(numbers, sequence_topologist,'k-', label='$a_n$')\n",
        "plt.grid()\n",
        "plt.legend()\n",
        "plt.show()"
      ],
      "metadata": {
        "id": "vlR4TXpmN7_l"
      },
      "execution_count": null,
      "outputs": []
    },
    {
      "cell_type": "markdown",
      "source": [
        "### Test topologist sine curve with other values of $x$. Change the number of points in $x$ to observe the clustering at $x=0$."
      ],
      "metadata": {
        "id": "YiRqnLNIuxGX"
      }
    },
    {
      "cell_type": "code",
      "source": [
        "\n",
        "# Generate x values\n",
        "x = np.linspace(0.0001, 2 * np.pi, 1000)\n",
        "# Calculate y values for the Topologist's sine curve\n",
        "y = np.sin(1 / x)\n",
        "\n",
        "# Plotting\n",
        "plt.plot(x, y, label='Topologist\\'s Sine Curve')\n",
        "plt.title('Topologist\\'s Sine Curve')\n",
        "plt.xlabel('x')\n",
        "plt.ylabel('sin(1/x)')\n",
        "plt.ylim(-1, 1)\n",
        "plt.axhline(0, color='black',linewidth=0.5, ls='--')\n",
        "plt.axvline(0, color='black',linewidth=0.5, ls='--')\n",
        "plt.grid()\n",
        "plt.legend()\n",
        "plt.show()"
      ],
      "metadata": {
        "id": "dRsU3El7u-PH"
      },
      "execution_count": null,
      "outputs": []
    },
    {
      "cell_type": "markdown",
      "source": [
        "## Below is the Lab portion- submit the pdf notebook after you are done with exercises below."
      ],
      "metadata": {
        "id": "UIsbcTAT48ai"
      }
    },
    {
      "cell_type": "markdown",
      "source": [
        "Consider the sequence $a_n = \\frac{n}{n^2+1}$. What do you think the limit would be? Run the code and observe the limit."
      ],
      "metadata": {
        "id": "9mkXayXN5Edv"
      }
    },
    {
      "cell_type": "code",
      "source": [
        "def seq(n):\n",
        "  return n/(n**2 + 1)"
      ],
      "metadata": {
        "id": "hWNLLQTh5EDt"
      },
      "execution_count": null,
      "outputs": []
    },
    {
      "cell_type": "code",
      "source": [
        "seq_list = [seq(i) for i in large_numbers]"
      ],
      "metadata": {
        "id": "VEa7LjBr9Nme"
      },
      "execution_count": null,
      "outputs": []
    },
    {
      "cell_type": "code",
      "source": [
        "# visualize\n",
        "plt.xlabel('n')\n",
        "plt.ylabel('$a_n$')\n",
        "plt.plot(large_numbers, seq_list,'b', label='$a_n$')\n",
        "plt.legend()\n",
        "plt.show()"
      ],
      "metadata": {
        "id": "oA9F5vue9ZNG"
      },
      "execution_count": null,
      "outputs": []
    },
    {
      "cell_type": "markdown",
      "source": [
        "Consider the sequence $a_n=\\frac{n^2+4}{4n^2-4n+3}$. What do you think the limit will be when $n$ gets really big? Run the code below."
      ],
      "metadata": {
        "id": "QmQ8hoee9opx"
      }
    },
    {
      "cell_type": "code",
      "source": [
        "def seq1(n):\n",
        "  return (n**2+4)/(4 * n**2 - 4 *n +3)"
      ],
      "metadata": {
        "id": "07uSa3gR9-1T"
      },
      "execution_count": null,
      "outputs": []
    },
    {
      "cell_type": "code",
      "source": [
        "seq1_list = [seq1(i) for i in large_numbers]"
      ],
      "metadata": {
        "id": "k7nyqGzd-N1R"
      },
      "execution_count": null,
      "outputs": []
    },
    {
      "cell_type": "code",
      "source": [
        "# visualize\n",
        "plt.xlabel('n')\n",
        "plt.ylabel('$a_n$')\n",
        "plt.ylim(0,1)\n",
        "plt.plot(large_numbers, seq1_list,'b', label='$a_n$')\n",
        "plt.legend()\n",
        "plt.show()"
      ],
      "metadata": {
        "id": "ZCzKvzKo-RD4"
      },
      "execution_count": null,
      "outputs": []
    },
    {
      "cell_type": "markdown",
      "source": [
        "Consider the sequence $a_n=\\frac{n^3+4}{2n^2+3n}$. What do you think the limit will be when $n$ gets really big? Run the code below."
      ],
      "metadata": {
        "id": "dBupgl_E-gtS"
      }
    },
    {
      "cell_type": "code",
      "source": [
        "def seq2(n):\n",
        "  return (n**3 + 4)/(2 * n**2 + 3 *n)"
      ],
      "metadata": {
        "id": "XIxTrtqI-qYR"
      },
      "execution_count": null,
      "outputs": []
    },
    {
      "cell_type": "code",
      "source": [
        "seq2_list = [seq2(i) for i in large_numbers]"
      ],
      "metadata": {
        "id": "FrfdfDQp-473"
      },
      "execution_count": null,
      "outputs": []
    },
    {
      "cell_type": "code",
      "source": [
        "# visualize\n",
        "plt.xlabel('n')\n",
        "plt.ylabel('$a_n$')\n",
        "plt.plot(large_numbers, seq2_list,'b', label='$a_n$')\n",
        "plt.legend()\n",
        "plt.show()"
      ],
      "metadata": {
        "id": "NSTFZRtG--ms"
      },
      "execution_count": null,
      "outputs": []
    },
    {
      "cell_type": "code",
      "source": [
        "def seq3(n):\n",
        "  return (n**5 + 4)/(2 * n**2 + 3 *n)"
      ],
      "metadata": {
        "id": "-a0FOVt__XLS"
      },
      "execution_count": null,
      "outputs": []
    },
    {
      "cell_type": "code",
      "source": [
        "seq3_list = [seq3(i) for i in large_numbers]"
      ],
      "metadata": {
        "id": "NBrva4UR_c7a"
      },
      "execution_count": null,
      "outputs": []
    },
    {
      "cell_type": "code",
      "source": [
        "# visualize\n",
        "plt.xlabel('n')\n",
        "plt.ylabel('$a_n$')\n",
        "plt.plot(large_numbers, seq3_list,'b', label='$a_n$')\n",
        "plt.legend()\n",
        "plt.show()"
      ],
      "metadata": {
        "id": "gO6sYW3i_iG-"
      },
      "execution_count": null,
      "outputs": []
    }
  ]
}
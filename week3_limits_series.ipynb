{
  "nbformat": 4,
  "nbformat_minor": 0,
  "metadata": {
    "colab": {
      "provenance": [],
      "authorship_tag": "ABX9TyM0dRRam4ojuEOLkccWfCaq",
      "include_colab_link": true
    },
    "kernelspec": {
      "name": "python3",
      "display_name": "Python 3"
    },
    "language_info": {
      "name": "python"
    }
  },
  "cells": [
    {
      "cell_type": "markdown",
      "metadata": {
        "id": "view-in-github",
        "colab_type": "text"
      },
      "source": [
        "<a href=\"https://colab.research.google.com/github/yajuna/computer-assisted-calculus/blob/master/week3_limits_series.ipynb\" target=\"_parent\"><img src=\"https://colab.research.google.com/assets/colab-badge.svg\" alt=\"Open In Colab\"/></a>"
      ]
    },
    {
      "cell_type": "markdown",
      "source": [
        "# In this notebook, we look at infinite series\n",
        "This means, we take a finite sequence, and add up all the terms. We don't usually know how to handle infinities, so we first add up a lot of terms (compute the partial sum), then we take the limit."
      ],
      "metadata": {
        "id": "Ijsmtiq6hWxN"
      }
    },
    {
      "cell_type": "markdown",
      "source": [
        "## In class Python portion (submit by end of class)"
      ],
      "metadata": {
        "id": "7X0MN3p6iEOx"
      }
    },
    {
      "cell_type": "code",
      "execution_count": 1,
      "metadata": {
        "colab": {
          "base_uri": "https://localhost:8080/"
        },
        "id": "5FtfXsukRcrd",
        "outputId": "20e1acac-21c5-4e7e-80ae-90fab345590a"
      },
      "outputs": [
        {
          "output_type": "stream",
          "name": "stdout",
          "text": [
            "Python 3 version is 3.12.11 (main, Jun  4 2025, 08:56:18) [GCC 11.4.0]\n",
            "Numpy version is 2.0.2\n",
            "Matplotlib version is 3.10.0\n",
            "Code run at 2025-10-13 03:08:21.713747\n"
          ]
        }
      ],
      "source": [
        "import numpy as np\n",
        "import matplotlib.pyplot as plt\n",
        "\n",
        "import datetime\n",
        "now = datetime.datetime.now()\n",
        "\n",
        "# print versions of softwares and time when run\n",
        "import sys\n",
        "print(\"Python 3 version is\", sys.version)\n",
        "print(\"Numpy version is\", np.__version__)\n",
        "import matplotlib\n",
        "print(\"Matplotlib version is\", matplotlib.__version__)\n",
        "print(\"Code run at\", now)"
      ]
    },
    {
      "cell_type": "markdown",
      "source": [
        "### In this notebook, we look at infinite series.\n",
        "\n",
        "Consider $S_n=\\sum^N_{n=1}a_n = a_1+a_2+...+a_{N-1}+a_N$\n",
        "\n",
        "We investigate the limit $\\lim_{N\\to\\infty}\\sum^N_{n=1}a_n$"
      ],
      "metadata": {
        "id": "EDTi_YefRnac"
      }
    },
    {
      "cell_type": "code",
      "source": [
        "def partial_sum_natural(n):\n",
        "  temp = 0\n",
        "  for j in range(n+1):\n",
        "    temp += j\n",
        "  return temp"
      ],
      "metadata": {
        "id": "XqqDLqkCEfp1"
      },
      "execution_count": 2,
      "outputs": []
    },
    {
      "cell_type": "markdown",
      "source": [
        "Print the output of the function, when adding up the first 100 terms."
      ],
      "metadata": {
        "id": "XKzHcUl8iTUV"
      }
    },
    {
      "cell_type": "code",
      "source": [
        "print(partial_sum_natural(100))"
      ],
      "metadata": {
        "colab": {
          "base_uri": "https://localhost:8080/"
        },
        "id": "f5E1V1ezFZ-5",
        "outputId": "150a943a-9990-446a-c1a3-fb1d9e5e5db3"
      },
      "execution_count": 3,
      "outputs": [
        {
          "output_type": "stream",
          "name": "stdout",
          "text": [
            "5050\n"
          ]
        }
      ]
    },
    {
      "cell_type": "markdown",
      "source": [
        "Exercise: write your old code to print the sum of the first 500 terms."
      ],
      "metadata": {
        "id": "Oz5PTpL2ibO7"
      }
    },
    {
      "cell_type": "code",
      "source": [
        "## write your own code here\n"
      ],
      "metadata": {
        "id": "yWIap7ZLihNj"
      },
      "execution_count": 5,
      "outputs": []
    },
    {
      "cell_type": "markdown",
      "source": [
        "Exercise: run the code below. It will print the first 200 numbers, then a list of the first 199 partial sums will be saved in a list called `partial_list`."
      ],
      "metadata": {
        "id": "7gII43j5is49"
      }
    },
    {
      "cell_type": "code",
      "source": [
        "numbers = [i for i in range(200)]\n",
        "print(numbers)\n",
        "\n",
        "partial_list = []\n",
        "\n",
        "for number in numbers:\n",
        "  partial_list.append(partial_sum_natural(number))"
      ],
      "metadata": {
        "colab": {
          "base_uri": "https://localhost:8080/"
        },
        "id": "Vx_38v7KH0JP",
        "outputId": "aaf20485-5673-45cf-d20f-de9e91404cef"
      },
      "execution_count": 6,
      "outputs": [
        {
          "output_type": "stream",
          "name": "stdout",
          "text": [
            "[0, 1, 2, 3, 4, 5, 6, 7, 8, 9, 10, 11, 12, 13, 14, 15, 16, 17, 18, 19, 20, 21, 22, 23, 24, 25, 26, 27, 28, 29, 30, 31, 32, 33, 34, 35, 36, 37, 38, 39, 40, 41, 42, 43, 44, 45, 46, 47, 48, 49, 50, 51, 52, 53, 54, 55, 56, 57, 58, 59, 60, 61, 62, 63, 64, 65, 66, 67, 68, 69, 70, 71, 72, 73, 74, 75, 76, 77, 78, 79, 80, 81, 82, 83, 84, 85, 86, 87, 88, 89, 90, 91, 92, 93, 94, 95, 96, 97, 98, 99, 100, 101, 102, 103, 104, 105, 106, 107, 108, 109, 110, 111, 112, 113, 114, 115, 116, 117, 118, 119, 120, 121, 122, 123, 124, 125, 126, 127, 128, 129, 130, 131, 132, 133, 134, 135, 136, 137, 138, 139, 140, 141, 142, 143, 144, 145, 146, 147, 148, 149, 150, 151, 152, 153, 154, 155, 156, 157, 158, 159, 160, 161, 162, 163, 164, 165, 166, 167, 168, 169, 170, 171, 172, 173, 174, 175, 176, 177, 178, 179, 180, 181, 182, 183, 184, 185, 186, 187, 188, 189, 190, 191, 192, 193, 194, 195, 196, 197, 198, 199]\n"
          ]
        }
      ]
    },
    {
      "cell_type": "markdown",
      "source": [
        "Write your own code to print the partial list"
      ],
      "metadata": {
        "id": "8PIah6Pak4Uf"
      }
    },
    {
      "cell_type": "code",
      "source": [
        "## print the partial_list\n"
      ],
      "metadata": {
        "id": "dBaEmbD4k90L"
      },
      "execution_count": 7,
      "outputs": []
    },
    {
      "cell_type": "code",
      "source": [
        "# visualize\n",
        "plt.xlabel('natural number $ n$')\n",
        "plt.ylabel('partial sum for each natural number $n$')\n",
        "# plt.ylim(numbers[0],100)\n",
        "# plt.xlim(numbers[0],numbers[-1])\n",
        "plt.plot(numbers, partial_list,'r*', label='$S_n$')\n",
        "plt.legend()\n",
        "plt.show()"
      ],
      "metadata": {
        "colab": {
          "base_uri": "https://localhost:8080/",
          "height": 450
        },
        "id": "lC-ScX32H53S",
        "outputId": "a28c0544-da79-44a2-d884-3a6ee1ee3c84"
      },
      "execution_count": 10,
      "outputs": [
        {
          "output_type": "display_data",
          "data": {
            "text/plain": [
              "<Figure size 640x480 with 1 Axes>"
            ],
            "image/png": "[encoded data removed]"
          },
          "metadata": {}
        }
      ]
    },
    {
      "cell_type": "markdown",
      "source": [
        "Write your own code to compute\n",
        "\n",
        "$S_N=\\sum^N_{n=0}(\\frac{1}{2})^n$"
      ],
      "metadata": {
        "id": "ZlKT7mVZGf6H"
      }
    },
    {
      "cell_type": "code",
      "source": [
        "## write the sum with for loop\n"
      ],
      "metadata": {
        "id": "PmL8SkzPGq8i"
      },
      "execution_count": null,
      "outputs": []
    },
    {
      "cell_type": "markdown",
      "source": [
        "## We now look at limits when the independent variable is continuous (instead of natural numbers).\n",
        "\n",
        "Of course, computers can not precisely implement continuity. The way to handle continuity here is to take very fine samples of an interval. For example, to approximate the interval [0,1], we consider say 5000 points finely sampled within that range."
      ],
      "metadata": {
        "id": "DYF0dnECKPxM"
      }
    },
    {
      "cell_type": "code",
      "source": [
        "fine_points = np.linspace(0,.999,5000)"
      ],
      "metadata": {
        "id": "t2JSMMc9Mp4D"
      },
      "execution_count": null,
      "outputs": []
    },
    {
      "cell_type": "code",
      "source": [
        "def func_frac(x):\n",
        "  return (x-1)/(x**2-1)"
      ],
      "metadata": {
        "id": "lTNYBPK6Mxg-"
      },
      "execution_count": null,
      "outputs": []
    },
    {
      "cell_type": "code",
      "source": [
        "# visualize\n",
        "plt.xlabel('independent variable')\n",
        "plt.ylabel('function values')\n",
        "plt.plot(fine_points, func_frac(fine_points),'r*')\n",
        "plt.legend()\n",
        "plt.show()"
      ],
      "metadata": {
        "colab": {
          "base_uri": "https://localhost:8080/",
          "height": 504
        },
        "id": "yR3lU3fuM_R9",
        "outputId": "09b4b400-0a28-4874-85a3-bcb0dcf6e8e0"
      },
      "execution_count": null,
      "outputs": [
        {
          "output_type": "stream",
          "name": "stderr",
          "text": [
            "/tmp/ipython-input-912367883.py:5: UserWarning: No artists with labels found to put in legend.  Note that artists whose label start with an underscore are ignored when legend() is called with no argument.\n",
            "  plt.legend()\n"
          ]
        },
        {
          "output_type": "display_data",
          "data": {
            "text/plain": [
              "<Figure size 640x480 with 1 Axes>"
            ],
            "image/png": "[encoded data removed]"
          },
          "metadata": {}
        }
      ]
    },
    {
      "cell_type": "markdown",
      "source": [
        "## Please complete the cells below and submit under Lab 3."
      ],
      "metadata": {
        "id": "FjQHUigNmE3g"
      }
    },
    {
      "cell_type": "markdown",
      "source": [
        "Write your own code to compute $S_N=\\sum^N_{n=0}(\\frac{1}{3})^n$"
      ],
      "metadata": {
        "id": "6GjzdaVhmasA"
      }
    },
    {
      "cell_type": "code",
      "source": [
        "## your code here"
      ],
      "metadata": {
        "id": "6JpxPcQ2maLu"
      },
      "execution_count": null,
      "outputs": []
    },
    {
      "cell_type": "markdown",
      "source": [
        "Define a list of natural numbers similar to above. For example, make a list of 0, 1, 2, ..., 400"
      ],
      "metadata": {
        "id": "qhdxuGCGmoRn"
      }
    },
    {
      "cell_type": "code",
      "source": [
        "## your code here"
      ],
      "metadata": {
        "id": "td1QqBzMm1xq"
      },
      "execution_count": null,
      "outputs": []
    },
    {
      "cell_type": "markdown",
      "source": [
        "Make a list of partial sums for the above list of numbers, and visualize the trend of the sums similar to above."
      ],
      "metadata": {
        "id": "Wqleuz1sm3QX"
      }
    },
    {
      "cell_type": "markdown",
      "source": [
        "Write your own code to compute $S_N=\\sum^N_{n=0}(\\frac{1}{n})^n$"
      ],
      "metadata": {
        "id": "cxxlg-lwnPXw"
      }
    },
    {
      "cell_type": "markdown",
      "source": [
        "Compute and plot a list of the above partial sums."
      ],
      "metadata": {
        "id": "5TeAYp90nVOP"
      }
    }
  ]
}
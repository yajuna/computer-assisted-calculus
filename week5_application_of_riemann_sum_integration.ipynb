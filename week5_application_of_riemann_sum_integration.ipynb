{
  "nbformat": 4,
  "nbformat_minor": 0,
  "metadata": {
    "colab": {
      "provenance": [],
      "authorship_tag": "ABX9TyOgtCBtExpCoIF/4xEroGkH",
      "include_colab_link": true
    },
    "kernelspec": {
      "name": "python3",
      "display_name": "Python 3"
    },
    "language_info": {
      "name": "python"
    }
  },
  "cells": [
    {
      "cell_type": "markdown",
      "metadata": {
        "id": "view-in-github",
        "colab_type": "text"
      },
      "source": [
        "<a href=\"https://colab.research.google.com/github/yajuna/computer-assisted-calculus/blob/master/week5_application_of_riemann_sum_integration.ipynb\" target=\"_parent\"><img src=\"https://colab.research.google.com/assets/colab-badge.svg\" alt=\"Open In Colab\"/></a>"
      ]
    },
    {
      "cell_type": "markdown",
      "source": [
        "# In this notebook, we look at a few problems that can be solved by Riemann sums. Think about how to set up these problems, and which are the quantities you need to multiply."
      ],
      "metadata": {
        "id": "pD86roRKopDl"
      }
    },
    {
      "cell_type": "markdown",
      "source": [
        "## In class lab portion- please submit the in class lab portion before the end of class.\n",
        "\n",
        "cells after \"Python lab\" portion should be completed after class and submitted when done."
      ],
      "metadata": {
        "id": "yv9bUwlso_Qd"
      }
    },
    {
      "cell_type": "code",
      "execution_count": null,
      "metadata": {
        "id": "sbnPcHnSoZvW"
      },
      "outputs": [],
      "source": [
        "import numpy as np\n",
        "import matplotlib.pyplot as plt\n",
        "\n",
        "import datetime\n",
        "now = datetime.datetime.now()\n",
        "\n",
        "# print versions of softwares and time when run\n",
        "import sys\n",
        "print(\"Python 3 version is\", sys.version)\n",
        "print(\"Numpy version is\", np.__version__)\n",
        "import matplotlib\n",
        "print(\"Matplotlib version is\", matplotlib.__version__)\n",
        "print(\"Code run at\", now)"
      ]
    },
    {
      "cell_type": "markdown",
      "source": [
        "### A semi circle window is built and we need to compute roughly how much glass is needed. The radius of the window is 5 (feet).\n",
        "\n",
        "We model the top of the window by the function $y=\\sqrt{25-x^2}$\n",
        "\n",
        "We compute the area under this curve between -5 and 5.\n",
        "\n",
        "Below, we approximate each strip with a rectangle, whose height is the given by the left end point."
      ],
      "metadata": {
        "id": "YC6RYH4apVjI"
      }
    },
    {
      "cell_type": "code",
      "source": [
        "def f(x):\n",
        "    return np.sqrt(25 - x**2)\n",
        "\n",
        "a = -5\n",
        "b = 5\n",
        "x_values = np.linspace(a, b, 500)\n",
        "y_values = f(x_values)\n",
        "\n",
        "num_rects = 5\n",
        "x_rects = np.linspace(a, b, num_rects + 1)\n",
        "# print(x_rects)\n",
        "dx = (x_rects[-1] - x_rects[0]) / num_rects\n",
        "# print(dx)\n",
        "y_rects = f(x_rects)\n",
        "\n",
        "plt.figure(figsize=(10, 8))\n",
        "plt.plot(x_values, y_values, label=r'$y = \\sqrt{25-x^2}$', color='b')\n",
        "\n",
        "for i in range(num_rects):\n",
        "    plt.fill_between([x_rects[i], x_rects[i] + dx], [y_rects[i], y_rects[i]], alpha=0.3, color='green')\n",
        "\n",
        "plt.xlabel(r'$x$')\n",
        "plt.ylabel(r'$f(x)$')\n",
        "plt.title(r'Riemann Sum Approximation with '+str(num_rects)+ ' Rectangles')\n",
        "plt.legend()\n",
        "plt.axis('equal')\n",
        "plt.grid(True)\n",
        "plt.show()"
      ],
      "metadata": {
        "id": "PqWHADkWrLQ6"
      },
      "execution_count": null,
      "outputs": []
    },
    {
      "cell_type": "markdown",
      "source": [
        "Below, we approximate the area of each strip with a trapezoid (instead of a rectangle)."
      ],
      "metadata": {
        "id": "z-3AjC0Zvepy"
      }
    },
    {
      "cell_type": "code",
      "source": [
        "def f(x):\n",
        "    return np.sqrt(25 - x**2)\n",
        "\n",
        "a = -5\n",
        "b = 5\n",
        "x_values = np.linspace(a, b, 500)\n",
        "y_values = f(x_values)\n",
        "\n",
        "num_rects = 5\n",
        "x_rects = np.linspace(a, b, num_rects + 1)\n",
        "# print(x_rects)\n",
        "dx = (x_rects[-1] - x_rects[0]) / num_rects\n",
        "# print(dx)\n",
        "y_rects = f(x_rects)\n",
        "\n",
        "plt.figure(figsize=(10, 8))\n",
        "plt.plot(x_values, y_values, label=r'$y = \\sqrt{25-x^2}$', color='b')\n",
        "\n",
        "for i in range(num_rects):\n",
        "    plt.fill_between([x_rects[i], x_rects[i] + dx], [y_rects[i], y_rects[i + 1]], alpha=0.3, color='green')\n",
        "\n",
        "plt.xlabel(r'$x$')\n",
        "plt.ylabel(r'$f(x)$')\n",
        "plt.title(r'Riemann Sum Approximation with '+str(num_rects)+ ' Rectangles')\n",
        "plt.legend()\n",
        "plt.axis('equal')\n",
        "plt.grid(True)\n",
        "plt.show()"
      ],
      "metadata": {
        "id": "t4p3ru-YvfNQ"
      },
      "execution_count": null,
      "outputs": []
    },
    {
      "cell_type": "markdown",
      "source": [
        "### We can also compute the area between two curves. Say the bottom of the window is $y = x+2$, and the top is $y = 0.5x-1$. We compute the area between 0 and 5."
      ],
      "metadata": {
        "id": "wobrB6I8x0e6"
      }
    },
    {
      "cell_type": "code",
      "source": [
        "def f1(x):\n",
        "    return  x+2\n",
        "\n",
        "def f2(x):\n",
        "  return 0.5*x - 1\n",
        "\n",
        "a = 0\n",
        "b = 5\n",
        "x_values = np.linspace(a, b, 500)\n",
        "y1_values = f1(x_values)\n",
        "y2_values = f2(x_values)\n",
        "\n",
        "num_rects = 5\n",
        "x_rects = np.linspace(a, b, num_rects + 1)\n",
        "# print(x_rects)\n",
        "dx = (x_rects[-1] - x_rects[0]) / num_rects\n",
        "# print(dx)\n",
        "y1_rects = f1(x_rects)\n",
        "y2_rects = f2(x_rects)\n",
        "\n",
        "plt.figure(figsize=(10, 8))\n",
        "plt.plot(x_values, y1_values, label=r'$y = x+2$', color='b')\n",
        "plt.plot(x_values, y2_values, label=r'$y = 0.5x-1$', color='r')\n",
        "\n",
        "for i in range(num_rects):\n",
        "    plt.fill_between([x_rects[i], x_rects[i] + dx], [y1_rects[i], y1_rects[i]], [y2_rects[i], y2_rects[i]],alpha=0.3, color='green')\n",
        "\n",
        "plt.xlabel(r'$x$')\n",
        "plt.ylabel(r'$f(x)$')\n",
        "plt.title(r'Riemann Sum Approximation with '+str(num_rects)+ ' Rectangles')\n",
        "plt.legend()\n",
        "plt.axis('equal')\n",
        "plt.grid(True)\n",
        "plt.show()"
      ],
      "metadata": {
        "id": "ARoRX0hJyjJ5"
      },
      "execution_count": null,
      "outputs": []
    },
    {
      "cell_type": "code",
      "source": [
        "left_riemann_sum = np.sum((y1_rects-y2_rects) * dx)\n",
        "print(left_riemann_sum)"
      ],
      "metadata": {
        "id": "1CXVdfGPAAEo"
      },
      "execution_count": null,
      "outputs": []
    },
    {
      "cell_type": "markdown",
      "source": [
        "To express the area as an integral, it is written as\n",
        "\n",
        "$\\int^5_0 (x+2)-(0.5x-1)\\ dx$\n",
        "\n",
        "We can also first compute the function, then compute the area under the curve, as seen below."
      ],
      "metadata": {
        "id": "Pkg9mDg79eDJ"
      }
    },
    {
      "cell_type": "code",
      "source": [
        "def f(x):\n",
        "    return  (x+2) - (0.5*x-1)\n",
        "\n",
        "a = 0\n",
        "b = 5\n",
        "x_values = np.linspace(a, b, 500)\n",
        "y_values = f(x_values)\n",
        "\n",
        "num_rects = 5\n",
        "x_rects = np.linspace(a, b, num_rects + 1)\n",
        "# print(x_rects)\n",
        "dx = (x_rects[-1] - x_rects[0]) / num_rects\n",
        "# print(dx)\n",
        "y_rects = f(x_rects)\n",
        "\n",
        "\n",
        "plt.figure(figsize=(10, 8))\n",
        "plt.plot(x_values, y_values, label=r'$y = (x+2)-(0.5x-1)$', color='b')\n",
        "\n",
        "\n",
        "for i in range(num_rects):\n",
        "    plt.fill_between([x_rects[i], x_rects[i] + dx], [y_rects[i], y_rects[i]],alpha=0.3, color='green')\n",
        "\n",
        "plt.xlabel(r'$x$')\n",
        "plt.ylabel(r'$f(x)$')\n",
        "plt.title(r'Riemann Sum Approximation with '+str(num_rects)+ ' Rectangles')\n",
        "plt.legend()\n",
        "plt.axis('equal')\n",
        "plt.grid(True)\n",
        "plt.show()"
      ],
      "metadata": {
        "id": "lg1WfZAW_Iwr"
      },
      "execution_count": null,
      "outputs": []
    },
    {
      "cell_type": "code",
      "source": [
        "left_riemann_sum = np.sum((y_rects) * dx)\n",
        "print(left_riemann_sum)"
      ],
      "metadata": {
        "id": "qy1548oRASXe"
      },
      "execution_count": null,
      "outputs": []
    },
    {
      "cell_type": "markdown",
      "source": [
        "Another example of area between the curves is the area between $y=x^2+2$ and $y=\\sin(x)$, from $x=-1$ to $x=2$."
      ],
      "metadata": {
        "id": "95Vp5IGHyo07"
      }
    },
    {
      "cell_type": "code",
      "source": [
        "def f1(x):\n",
        "    return  x**2+2\n",
        "\n",
        "def f2(x):\n",
        "  return np.sin(x)\n",
        "\n",
        "a = -1\n",
        "b = 2\n",
        "x_values = np.linspace(a, b, 500)\n",
        "y1_values = f1(x_values)\n",
        "y2_values = f2(x_values)\n",
        "\n",
        "num_rects = 5\n",
        "x_rects = np.linspace(a, b, num_rects + 1)\n",
        "# print(x_rects)\n",
        "dx = (x_rects[-1] - x_rects[0]) / num_rects\n",
        "# print(dx)\n",
        "y1_rects = f1(x_rects)\n",
        "y2_rects = f2(x_rects)\n",
        "\n",
        "plt.figure(figsize=(10, 8))\n",
        "plt.plot(x_values, y1_values, label=r'$y = x^2+2$', color='b')\n",
        "plt.plot(x_values, y2_values, label=r'$y = \\sin(x)$', color='r')\n",
        "\n",
        "for i in range(num_rects):\n",
        "    plt.fill_between([x_rects[i], x_rects[i] + dx], [y1_rects[i], y1_rects[i]], [y2_rects[i], y2_rects[i]],alpha=0.3, color='green')\n",
        "\n",
        "plt.xlabel(r'$x$')\n",
        "plt.ylabel(r'$f(x)$')\n",
        "plt.title(r'Riemann Sum Approximation with '+str(num_rects)+ ' Rectangles')\n",
        "plt.legend()\n",
        "# plt.axis('equal')\n",
        "plt.grid(True)\n",
        "plt.show()"
      ],
      "metadata": {
        "id": "tGgxUpwJy0VG"
      },
      "execution_count": null,
      "outputs": []
    },
    {
      "cell_type": "code",
      "source": [
        "def f(x):\n",
        "    return  (x**2+2) - np.sin(x)\n",
        "\n",
        "a = -1\n",
        "b = 2\n",
        "x_values = np.linspace(a, b, 500)\n",
        "y_values = f(x_values)\n",
        "\n",
        "num_rects = 5\n",
        "x_rects = np.linspace(a, b, num_rects + 1)\n",
        "# print(x_rects)\n",
        "dx = (x_rects[-1] - x_rects[0]) / num_rects\n",
        "# print(dx)\n",
        "y_rects = f(x_rects)\n",
        "\n",
        "\n",
        "plt.figure(figsize=(10, 8))\n",
        "plt.plot(x_values, y_values, label=r'$y = (x+2)-\\sin(x)$', color='b')\n",
        "\n",
        "\n",
        "for i in range(num_rects):\n",
        "    plt.fill_between([x_rects[i], x_rects[i] + dx], [y_rects[i], y_rects[i]],alpha=0.3, color='green')\n",
        "\n",
        "plt.xlabel(r'$x$')\n",
        "plt.ylabel(r'$f(x)$')\n",
        "plt.title(r'Riemann Sum Approximation with '+str(num_rects)+ ' Rectangles')\n",
        "plt.legend()\n",
        "# plt.axis('equal')\n",
        "plt.grid(True)\n",
        "plt.show()"
      ],
      "metadata": {
        "id": "gGAOWS4AzD-W"
      },
      "execution_count": null,
      "outputs": []
    },
    {
      "cell_type": "code",
      "source": [
        "## two areas side by side\n",
        "\n",
        "plt.subplot(1, 2, 1)\n",
        "plt.plot(x_values, y_values, label=r'$y = (x+2)-\\sin(x)$', color='b')\n",
        "plt.plot(x_values, np.zeros(x_values.size), label=r'$y = 0$', color='r')\n",
        "\n",
        "for i in range(num_rects):\n",
        "    plt.fill_between([x_rects[i], x_rects[i] + dx], [y_rects[i], y_rects[i]],alpha=0.3, color='green')\n",
        "\n",
        "plt.xlabel(r'$x$')\n",
        "plt.ylabel(r'$f(x)$')\n",
        "plt.axis([-1, 2, -1, 6])\n",
        "plt.title(r'Under curve with '+str(num_rects)+ ' Rectangles')\n",
        "plt.legend()\n",
        "plt.grid(True)\n",
        "\n",
        "###########################\n",
        "plt.subplot(1, 2, 2)\n",
        "plt.plot(x_values, y1_values, label=r'$y = x^2+2$', color='b')\n",
        "plt.plot(x_values, y2_values, label=r'$y = \\sin(x)$', color='r')\n",
        "\n",
        "for i in range(num_rects):\n",
        "    plt.fill_between([x_rects[i], x_rects[i] + dx], [y1_rects[i], y1_rects[i]], [y2_rects[i], y2_rects[i]],alpha=0.3, color='green')\n",
        "\n",
        "plt.xlabel(r'$x$')\n",
        "plt.ylabel(r'$f(x)$')\n",
        "plt.axis([-1, 2, -1, 6])\n",
        "plt.title(r'Between curves with '+str(num_rects)+ ' Rectangles')\n",
        "plt.legend()\n",
        "plt.grid(True)\n",
        "\n",
        "plt.show()"
      ],
      "metadata": {
        "id": "I5w76ptGzRIV"
      },
      "execution_count": null,
      "outputs": []
    },
    {
      "cell_type": "markdown",
      "source": [
        "We can model the total number of patients from an infectious disease. Say the first 20 days of a new disease, the number of patients is modeled by the function $y=f(x)=\\arctan(x)$. We can estimate the total number of patients similar to the above.\n",
        "\n"
      ],
      "metadata": {
        "id": "T-GLO5pdBrOn"
      }
    },
    {
      "cell_type": "code",
      "source": [
        "def f(x):\n",
        "    return  np.arctan(x)\n",
        "\n",
        "a = 0\n",
        "b = 20\n",
        "x_values = np.linspace(a, b, 500)\n",
        "y_values = f(x_values)\n",
        "\n",
        "num_rects = 20\n",
        "x_rects = np.linspace(a, b, num_rects + 1)\n",
        "# print(x_rects)\n",
        "dx = (x_rects[-1] - x_rects[0]) / num_rects\n",
        "# print(dx)\n",
        "y_rects = f(x_rects)\n",
        "\n",
        "\n",
        "plt.figure(figsize=(10, 8))\n",
        "plt.plot(x_values, y_values, label=r'$y = \\arctan(x)$', color='b')\n",
        "\n",
        "\n",
        "for i in range(num_rects):\n",
        "    plt.fill_between([x_rects[i], x_rects[i] + dx], [y_rects[i], y_rects[i]],alpha=0.3, color='green')\n",
        "\n",
        "plt.xlabel(r'$x$')\n",
        "plt.ylabel(r'number of patients (in thousands)')\n",
        "plt.title(r'Riemann Sum Approximation with '+str(num_rects)+ ' Rectangles')\n",
        "plt.legend()\n",
        "# plt.axis('equal')\n",
        "plt.grid(True)\n",
        "plt.show()"
      ],
      "metadata": {
        "id": "x5GQw2HkDvwv"
      },
      "execution_count": null,
      "outputs": []
    },
    {
      "cell_type": "markdown",
      "source": [
        "Compute the approximate number of patients using the Riemann sum"
      ],
      "metadata": {
        "id": "HSnBKSJREhzs"
      }
    },
    {
      "cell_type": "code",
      "source": [
        "patient_riemann_sum = np.sum((y_rects) * dx)\n",
        "print(patient_riemann_sum)"
      ],
      "metadata": {
        "id": "pA5BNQTxEl1l"
      },
      "execution_count": null,
      "outputs": []
    },
    {
      "cell_type": "markdown",
      "source": [
        "A manufacturers cost for storing one unit of inventory is 5 dollars/day for\n",
        "space and insurance. Over the course of 30 days, production $P$ rises from 10 to\n",
        "40 units/day according to $P = 10 + t$. Assuming no units are sold, what is the\n",
        "inventory cost for this period?"
      ],
      "metadata": {
        "id": "iyVf1pvcFtUv"
      }
    },
    {
      "cell_type": "markdown",
      "source": [
        "Setting up the model\n",
        "\n",
        "Divide the month into $n$ equal intervals of length $\\Delta t$ by the points $t_i, i =\n",
        "1, . . . , n$.\n",
        "Over the time interval $[t_i, t_i + \\Delta t]$, the number of units produced is about $(10 +\n",
        "t_i) \\Delta t$.\n",
        "The cost of holding these in inventory until the end of the month is $5(30-\n",
        "t_i)(10 + t_i)\\Delta t$."
      ],
      "metadata": {
        "id": "RLAnlxFZGTRF"
      }
    },
    {
      "cell_type": "code",
      "source": [
        "def f(t):\n",
        "    return  5 * (30-t) * (10 + t)\n",
        "\n",
        "a = 0\n",
        "b = 30\n",
        "t_values = np.linspace(a, b, 500)\n",
        "y_values = f(t_values)\n",
        "\n",
        "num_rects = 30\n",
        "t_rects = np.linspace(a, b, num_rects + 1)\n",
        "# print(x_rects)\n",
        "dt = (t_rects[-1] - t_rects[0]) / num_rects\n",
        "# print(dx)\n",
        "y_rects = f(t_rects)\n",
        "\n",
        "\n",
        "plt.figure(figsize=(10, 8))\n",
        "plt.plot(t_values, y_values, label=r'$y = 5(30-t)(t+10)$', color='b')\n",
        "\n",
        "\n",
        "for i in range(num_rects):\n",
        "    plt.fill_between([t_rects[i], t_rects[i] + dt], [y_rects[i], y_rects[i]],alpha=0.3, color='green')\n",
        "\n",
        "plt.xlabel(r'$t$ (in days)')\n",
        "plt.ylabel(r'function')\n",
        "plt.title(r'Riemann Sum Approximation with '+str(num_rects)+ ' Rectangles')\n",
        "plt.legend()\n",
        "# plt.axis('equal')\n",
        "plt.grid(True)\n",
        "plt.show()"
      ],
      "metadata": {
        "id": "l0uS6UczG9Xk"
      },
      "execution_count": null,
      "outputs": []
    },
    {
      "cell_type": "code",
      "source": [
        "cost_riemann_sum = np.sum((y_rects) * dt)\n",
        "print(cost_riemann_sum)"
      ],
      "metadata": {
        "id": "247vZMdhHs0F"
      },
      "execution_count": null,
      "outputs": []
    },
    {
      "cell_type": "markdown",
      "source": [
        "Exercise: Assume a heated outdoor pool requires 2 units of heat/hour for each degree\n",
        "F it is maintained above the external air temperature.\n",
        "If the external temperature $T$ varies between 50 degrees and 70 degrees over a 24 hour period\n",
        "starting at midnight, according to $T = 10(6-\\cos(\\pi t/12))$ , how many heat units will\n",
        "be required to maintain the pool at a steady 75 degrees temperature?"
      ],
      "metadata": {
        "id": "LHjXmu0ex97Y"
      }
    },
    {
      "cell_type": "markdown",
      "source": [
        "Set up the model: Divide the time interval into $n$ equal small intervals of length $\\Delta t$ by the\n",
        "points $t_i, i = 1, . . . , n$.\n",
        "The approximate number of heating units required to maintain the temperature\n",
        "at 75 degrees over the time interval $[t_i,t_i + \\Delta t]$: is $2(75-10(6-\\cos (\\pi t_i/12)))\\Delta t$."
      ],
      "metadata": {
        "id": "OmS_LHtm5gHJ"
      }
    },
    {
      "cell_type": "code",
      "source": [
        "## write the code to approximate the heat units needed in 24 hours."
      ],
      "metadata": {
        "id": "Z6cvUg6k6j7g"
      },
      "execution_count": null,
      "outputs": []
    }
  ]
}